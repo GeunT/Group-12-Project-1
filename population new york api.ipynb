{
 "cells": [
  {
   "cell_type": "code",
   "execution_count": 38,
   "metadata": {},
   "outputs": [
    {
     "data": {
      "text/html": [
       "<div>\n",
       "<style scoped>\n",
       "    .dataframe tbody tr th:only-of-type {\n",
       "        vertical-align: middle;\n",
       "    }\n",
       "\n",
       "    .dataframe tbody tr th {\n",
       "        vertical-align: top;\n",
       "    }\n",
       "\n",
       "    .dataframe thead th {\n",
       "        text-align: right;\n",
       "    }\n",
       "</style>\n",
       "<table border=\"1\" class=\"dataframe\">\n",
       "  <thead>\n",
       "    <tr style=\"text-align: right;\">\n",
       "      <th></th>\n",
       "      <th>population</th>\n",
       "      <th>borough</th>\n",
       "      <th>percent</th>\n",
       "    </tr>\n",
       "  </thead>\n",
       "  <tbody>\n",
       "    <tr>\n",
       "      <th>0</th>\n",
       "      <td>8550971</td>\n",
       "      <td>NYC Total</td>\n",
       "      <td>100.00</td>\n",
       "    </tr>\n",
       "    <tr>\n",
       "      <th>1</th>\n",
       "      <td>1446788</td>\n",
       "      <td>Bronx</td>\n",
       "      <td>16.92</td>\n",
       "    </tr>\n",
       "    <tr>\n",
       "      <th>2</th>\n",
       "      <td>2648452</td>\n",
       "      <td>Brooklyn</td>\n",
       "      <td>30.97</td>\n",
       "    </tr>\n",
       "    <tr>\n",
       "      <th>3</th>\n",
       "      <td>1638281</td>\n",
       "      <td>Manhattan</td>\n",
       "      <td>19.16</td>\n",
       "    </tr>\n",
       "    <tr>\n",
       "      <th>4</th>\n",
       "      <td>2330295</td>\n",
       "      <td>Queens</td>\n",
       "      <td>27.25</td>\n",
       "    </tr>\n",
       "    <tr>\n",
       "      <th>5</th>\n",
       "      <td>487155</td>\n",
       "      <td>Staten Island</td>\n",
       "      <td>5.70</td>\n",
       "    </tr>\n",
       "  </tbody>\n",
       "</table>\n",
       "</div>"
      ],
      "text/plain": [
       "  population           borough percent\n",
       "0    8550971         NYC Total  100.00\n",
       "1    1446788             Bronx   16.92\n",
       "2    2648452          Brooklyn   30.97\n",
       "3    1638281         Manhattan   19.16\n",
       "4    2330295            Queens   27.25\n",
       "5     487155     Staten Island    5.70"
      ]
     },
     "execution_count": 38,
     "metadata": {},
     "output_type": "execute_result"
    }
   ],
   "source": [
    "import requests\n",
    "import json\n",
    "import pandas as pd\n",
    "import matplotlib.pyplot as plt\n",
    "\n",
    "url = \"https://data.cityofnewyork.us/resource/xywu-7bv9.json\"\n",
    "response = requests.get(url)\n",
    "response_json = response.json()\n",
    "#print(json.dumps(response_json, indent=4, sort_keys=True))\n",
    "\n",
    "population=[]\n",
    "borough=[]\n",
    "percent = []\n",
    "for i in range(len(response_json)):\n",
    "    p = response_json[i][\"_2020\"]\n",
    "    b = response_json[i][\"borough\"]\n",
    "    per = response_json[i][\"_2020_boro_share_of_nyc_total\"]\n",
    "    population.append(p)\n",
    "    borough.append(b)\n",
    "    percent.append(per)\n",
    "\n",
    "\n",
    "population_2020 = pd.DataFrame({\"population\": population, \"borough\": borough, \"percent\": percent})\n",
    "population_2020"
   ]
  },
  {
   "cell_type": "code",
   "execution_count": 50,
   "metadata": {},
   "outputs": [
    {
     "data": {
      "image/png": "[encoded data removed]",
      "text/plain": [
       "<Figure size 432x288 with 1 Axes>"
      ]
     },
     "metadata": {
      "needs_background": "light"
     },
     "output_type": "display_data"
    }
   ],
   "source": [
    "population_2020.iloc[1:6, 0]\n",
    "\n",
    "Boroughs = [\"Manhattan\", \"Brooklyn\", \"Queens\", \"Bronx\", \"Staten Island\"]\n",
    "population_2020 = [1638281, 2648452, 2330295, 1446788, 487155]\n",
    "plt.bar(Boroughs, population_2020, color=\"bgrcmykw\", align=\"center\")\n",
    "plt.title(\"2020 Population per Borough\")\n",
    "plt.xlabel(\"Borough\")\n",
    "plt.ylabel(\"Number of 2020 population\")\n",
    "plt.show()"
   ]
  },
  {
   "cell_type": "code",
   "execution_count": 75,
   "metadata": {},
   "outputs": [],
   "source": [
    "AirBnb = [45.1, 40.8, 11.2, 2.1, 0.7]\n",
    "Population =[19.16, 30.97, 27.25, 16.92, 5.70]\n",
    "df = pd.DataFrame({'group':[\"Manhattan\", \"Brooklyn\", \"Queens\", \"Bronx\", \"Staten Island\"], 'AirBnb':AirBnb , 'Population':Population })\n",
    "\n"
   ]
  },
  {
   "cell_type": "code",
   "execution_count": 77,
   "metadata": {},
   "outputs": [
    {
     "data": {
      "text/plain": [
       "Text(0, 0.5, 'Borough')"
      ]
     },
     "execution_count": 77,
     "metadata": {},
     "output_type": "execute_result"
    },
    {
     "data": {
      "image/png": "[encoded data removed]",
      "text/plain": [
       "<Figure size 432x288 with 1 Axes>"
      ]
     },
     "metadata": {
      "needs_background": "light"
     },
     "output_type": "display_data"
    }
   ],
   "source": [
    "# Reorder it following the values of the first value:\n",
    "ordered_df = df.sort_values(by='AirBnb')\n",
    "my_range=range(1,len(df.index)+1)\n",
    "\n",
    "# The vertical plot is made using the hline function\n",
    "# I load the seaborn library only to benefit the nice looking feature\n",
    "plt.hlines(y=my_range, xmin=ordered_df['AirBnb'], xmax=ordered_df['Population'], color='grey', alpha=0.4)\n",
    "plt.scatter(ordered_df['AirBnb'], my_range, color='skyblue', alpha=1, label='AirBnb')\n",
    "plt.scatter(ordered_df['Population'], my_range, color='green', alpha=0.4 , label='Population')\n",
    "plt.legend()\n",
    "\n",
    "# Add title and axis names\n",
    "plt.yticks(my_range, ordered_df['group'])\n",
    "plt.title('Comparison of the AirBnb and the Population', loc='left')\n",
    "plt.xlabel('Value of the variables')\n",
    "plt.ylabel('Borough')"
   ]
  },
  {
   "cell_type": "code",
   "execution_count": null,
   "metadata": {},
   "outputs": [],
   "source": []
  },
  {
   "cell_type": "code",
   "execution_count": null,
   "metadata": {},
   "outputs": [],
   "source": []
  }
 ],
 "metadata": {
  "kernelspec": {
   "display_name": "Python 3",
   "language": "python",
   "name": "python3"
  },
  "language_info": {
   "codemirror_mode": {
    "name": "ipython",
    "version": 3
   },
   "file_extension": ".py",
   "mimetype": "text/x-python",
   "name": "python",
   "nbconvert_exporter": "python",
   "pygments_lexer": "ipython3",
   "version": "3.7.3"
  }
 },
 "nbformat": 4,
 "nbformat_minor": 2
}
