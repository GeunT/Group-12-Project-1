{
 "cells": [
  {
   "cell_type": "code",
   "execution_count": 3,
   "metadata": {},
   "outputs": [],
   "source": [
    "import matplotlib.pyplot as plt\n",
    "from matplotlib.pyplot import figure\n",
    "import pandas as pd\n",
    "import numpy as np\n",
    "import plotly.plotly as py\n",
    "import plotly.graph_objs as go\n",
    "import seaborn as sns\n",
    "import requests\n",
    "import json\n",
    "from IPython.display import IFrame"
   ]
  },
  {
   "cell_type": "code",
   "execution_count": 4,
   "metadata": {},
   "outputs": [
    {
     "data": {
      "text/html": [
       "<div>\n",
       "<style scoped>\n",
       "    .dataframe tbody tr th:only-of-type {\n",
       "        vertical-align: middle;\n",
       "    }\n",
       "\n",
       "    .dataframe tbody tr th {\n",
       "        vertical-align: top;\n",
       "    }\n",
       "\n",
       "    .dataframe thead th {\n",
       "        text-align: right;\n",
       "    }\n",
       "</style>\n",
       "<table border=\"1\" class=\"dataframe\">\n",
       "  <thead>\n",
       "    <tr style=\"text-align: right;\">\n",
       "      <th></th>\n",
       "      <th>Title</th>\n",
       "      <th>Title_link</th>\n",
       "      <th>Price</th>\n",
       "      <th>first_detail_cell</th>\n",
       "      <th>Location</th>\n",
       "      <th>last_detail_cell</th>\n",
       "      <th>detail_cell</th>\n",
       "      <th>Headline</th>\n",
       "      <th>Borough</th>\n",
       "    </tr>\n",
       "  </thead>\n",
       "  <tbody>\n",
       "    <tr>\n",
       "      <th>0</th>\n",
       "      <td>29-11 Queens Plaza North #G328</td>\n",
       "      <td>https://streeteasy.com/building/aurora-29_11-q...</td>\n",
       "      <td>$5,995</td>\n",
       "      <td>3 beds</td>\n",
       "      <td>Rental Unit in Long Island City</td>\n",
       "      <td>2 baths</td>\n",
       "      <td>NaN</td>\n",
       "      <td>29-11 Queens Plaza North #G328 in Long Island ...</td>\n",
       "      <td>Queens</td>\n",
       "    </tr>\n",
       "    <tr>\n",
       "      <th>1</th>\n",
       "      <td>736 Washington Avenue #2F</td>\n",
       "      <td>https://streeteasy.com/building/736-washington...</td>\n",
       "      <td>$3,000</td>\n",
       "      <td>2 beds</td>\n",
       "      <td>Rental Unit in Prospect Heights</td>\n",
       "      <td>1 bath</td>\n",
       "      <td>NaN</td>\n",
       "      <td>736 Washington Avenue #2F in Prospect Heights,...</td>\n",
       "      <td>Brooklyn</td>\n",
       "    </tr>\n",
       "    <tr>\n",
       "      <th>2</th>\n",
       "      <td>60 Jefferson Street #3F</td>\n",
       "      <td>https://streeteasy.com/building/60-jefferson-s...</td>\n",
       "      <td>$2,395</td>\n",
       "      <td>1 bed</td>\n",
       "      <td>Building in Bushwick</td>\n",
       "      <td>1 bath</td>\n",
       "      <td>NaN</td>\n",
       "      <td>60 Jefferson Street #3F in Bushwick, Brooklyn ...</td>\n",
       "      <td>Brooklyn</td>\n",
       "    </tr>\n",
       "    <tr>\n",
       "      <th>3</th>\n",
       "      <td>319 W 116th Street #5D</td>\n",
       "      <td>https://streeteasy.com/building/319-west-116-s...</td>\n",
       "      <td>$2,850</td>\n",
       "      <td>2 beds</td>\n",
       "      <td>Rental Unit in South Harlem</td>\n",
       "      <td>1 bath</td>\n",
       "      <td>NaN</td>\n",
       "      <td>319 W 116th Street #5D in South Harlem, Manhat...</td>\n",
       "      <td>Manhattan</td>\n",
       "    </tr>\n",
       "    <tr>\n",
       "      <th>4</th>\n",
       "      <td>25 Fayette Street #3R</td>\n",
       "      <td>https://streeteasy.com/building/25-fayette-str...</td>\n",
       "      <td>$3,116</td>\n",
       "      <td>3 beds</td>\n",
       "      <td>Building in Bushwick</td>\n",
       "      <td>2 baths</td>\n",
       "      <td>NaN</td>\n",
       "      <td>25 Fayette Street #3R in Bushwick, Brooklyn | ...</td>\n",
       "      <td>Brooklyn</td>\n",
       "    </tr>\n",
       "  </tbody>\n",
       "</table>\n",
       "</div>"
      ],
      "text/plain": [
       "                            Title  \\\n",
       "0  29-11 Queens Plaza North #G328   \n",
       "1       736 Washington Avenue #2F   \n",
       "2         60 Jefferson Street #3F   \n",
       "3          319 W 116th Street #5D   \n",
       "4           25 Fayette Street #3R   \n",
       "\n",
       "                                          Title_link    Price  \\\n",
       "0  https://streeteasy.com/building/aurora-29_11-q...  $5,995    \n",
       "1  https://streeteasy.com/building/736-washington...  $3,000    \n",
       "2  https://streeteasy.com/building/60-jefferson-s...  $2,395    \n",
       "3  https://streeteasy.com/building/319-west-116-s...  $2,850    \n",
       "4  https://streeteasy.com/building/25-fayette-str...  $3,116    \n",
       "\n",
       "  first_detail_cell                         Location last_detail_cell  \\\n",
       "0            3 beds  Rental Unit in Long Island City          2 baths   \n",
       "1            2 beds  Rental Unit in Prospect Heights           1 bath   \n",
       "2             1 bed             Building in Bushwick           1 bath   \n",
       "3            2 beds      Rental Unit in South Harlem           1 bath   \n",
       "4            3 beds             Building in Bushwick          2 baths   \n",
       "\n",
       "  detail_cell                                           Headline      Borough  \n",
       "0         NaN  29-11 Queens Plaza North #G328 in Long Island ...      Queens   \n",
       "1         NaN  736 Washington Avenue #2F in Prospect Heights,...    Brooklyn   \n",
       "2         NaN  60 Jefferson Street #3F in Bushwick, Brooklyn ...    Brooklyn   \n",
       "3         NaN  319 W 116th Street #5D in South Harlem, Manhat...   Manhattan   \n",
       "4         NaN  25 Fayette Street #3R in Bushwick, Brooklyn | ...    Brooklyn   "
      ]
     },
     "execution_count": 4,
     "metadata": {},
     "output_type": "execute_result"
    }
   ],
   "source": [
    "streeteasy = 'scraped_streeteasy.csv'\n",
    "streeteasy_df = pd.read_csv(streeteasy)\n",
    "streeteasy_df.head()"
   ]
  },
  {
   "cell_type": "code",
   "execution_count": 5,
   "metadata": {},
   "outputs": [
    {
     "name": "stdout",
     "output_type": "stream",
     "text": [
      "The total listings in NYC is 200.\n"
     ]
    }
   ],
   "source": [
    "total_listings_on_file = len(streeteasy_df)\n",
    "print(f\"The total listings in NYC is {total_listings_on_file}.\")"
   ]
  },
  {
   "cell_type": "code",
   "execution_count": 6,
   "metadata": {},
   "outputs": [
    {
     "data": {
      "text/plain": [
       "Index(['Title', 'Title_link', 'Price', 'first_detail_cell', 'Location',\n",
       "       'last_detail_cell', 'detail_cell', 'Headline', 'Borough'],\n",
       "      dtype='object')"
      ]
     },
     "execution_count": 6,
     "metadata": {},
     "output_type": "execute_result"
    }
   ],
   "source": [
    "streeteasy_df.columns"
   ]
  },
  {
   "cell_type": "code",
   "execution_count": 7,
   "metadata": {},
   "outputs": [
    {
     "data": {
      "text/html": [
       "<div>\n",
       "<style scoped>\n",
       "    .dataframe tbody tr th:only-of-type {\n",
       "        vertical-align: middle;\n",
       "    }\n",
       "\n",
       "    .dataframe tbody tr th {\n",
       "        vertical-align: top;\n",
       "    }\n",
       "\n",
       "    .dataframe thead th {\n",
       "        text-align: right;\n",
       "    }\n",
       "</style>\n",
       "<table border=\"1\" class=\"dataframe\">\n",
       "  <thead>\n",
       "    <tr style=\"text-align: right;\">\n",
       "      <th></th>\n",
       "      <th>Title</th>\n",
       "      <th>Price</th>\n",
       "      <th>first_detail_cell</th>\n",
       "      <th>Location</th>\n",
       "      <th>last_detail_cell</th>\n",
       "      <th>Borough</th>\n",
       "    </tr>\n",
       "  </thead>\n",
       "  <tbody>\n",
       "    <tr>\n",
       "      <th>0</th>\n",
       "      <td>29-11 Queens Plaza North #G328</td>\n",
       "      <td>5995.0</td>\n",
       "      <td>3 beds</td>\n",
       "      <td>Rental Unit in Long Island City</td>\n",
       "      <td>2 baths</td>\n",
       "      <td>Queens</td>\n",
       "    </tr>\n",
       "    <tr>\n",
       "      <th>1</th>\n",
       "      <td>736 Washington Avenue #2F</td>\n",
       "      <td>3000.0</td>\n",
       "      <td>2 beds</td>\n",
       "      <td>Rental Unit in Prospect Heights</td>\n",
       "      <td>1 bath</td>\n",
       "      <td>Brooklyn</td>\n",
       "    </tr>\n",
       "    <tr>\n",
       "      <th>2</th>\n",
       "      <td>60 Jefferson Street #3F</td>\n",
       "      <td>2395.0</td>\n",
       "      <td>1 bed</td>\n",
       "      <td>Building in Bushwick</td>\n",
       "      <td>1 bath</td>\n",
       "      <td>Brooklyn</td>\n",
       "    </tr>\n",
       "    <tr>\n",
       "      <th>3</th>\n",
       "      <td>319 W 116th Street #5D</td>\n",
       "      <td>2850.0</td>\n",
       "      <td>2 beds</td>\n",
       "      <td>Rental Unit in South Harlem</td>\n",
       "      <td>1 bath</td>\n",
       "      <td>Manhattan</td>\n",
       "    </tr>\n",
       "    <tr>\n",
       "      <th>4</th>\n",
       "      <td>25 Fayette Street #3R</td>\n",
       "      <td>3116.0</td>\n",
       "      <td>3 beds</td>\n",
       "      <td>Building in Bushwick</td>\n",
       "      <td>2 baths</td>\n",
       "      <td>Brooklyn</td>\n",
       "    </tr>\n",
       "  </tbody>\n",
       "</table>\n",
       "</div>"
      ],
      "text/plain": [
       "                            Title   Price first_detail_cell  \\\n",
       "0  29-11 Queens Plaza North #G328  5995.0            3 beds   \n",
       "1       736 Washington Avenue #2F  3000.0            2 beds   \n",
       "2         60 Jefferson Street #3F  2395.0             1 bed   \n",
       "3          319 W 116th Street #5D  2850.0            2 beds   \n",
       "4           25 Fayette Street #3R  3116.0            3 beds   \n",
       "\n",
       "                          Location last_detail_cell      Borough  \n",
       "0  Rental Unit in Long Island City          2 baths      Queens   \n",
       "1  Rental Unit in Prospect Heights           1 bath    Brooklyn   \n",
       "2             Building in Bushwick           1 bath    Brooklyn   \n",
       "3      Rental Unit in South Harlem           1 bath   Manhattan   \n",
       "4             Building in Bushwick          2 baths    Brooklyn   "
      ]
     },
     "execution_count": 7,
     "metadata": {},
     "output_type": "execute_result"
    }
   ],
   "source": [
    "streeteasy_df['Price'] = streeteasy_df['Price'].str.replace('$', '').str.replace(',', '').astype(float)\n",
    "streeteasy_cleaned = streeteasy_df.loc[:, [\"Title\", \"Price\", \"first_detail_cell\", \"Location\",\"last_detail_cell\",\"Borough\"]]\n",
    "streeteasy_cleaned.head()"
   ]
  },
  {
   "cell_type": "code",
   "execution_count": 8,
   "metadata": {},
   "outputs": [
    {
     "data": {
      "text/html": [
       "<div>\n",
       "<style scoped>\n",
       "    .dataframe tbody tr th:only-of-type {\n",
       "        vertical-align: middle;\n",
       "    }\n",
       "\n",
       "    .dataframe tbody tr th {\n",
       "        vertical-align: top;\n",
       "    }\n",
       "\n",
       "    .dataframe thead th {\n",
       "        text-align: right;\n",
       "    }\n",
       "</style>\n",
       "<table border=\"1\" class=\"dataframe\">\n",
       "  <thead>\n",
       "    <tr style=\"text-align: right;\">\n",
       "      <th></th>\n",
       "      <th>Number of Listings</th>\n",
       "    </tr>\n",
       "  </thead>\n",
       "  <tbody>\n",
       "    <tr>\n",
       "      <th>Manhattan</th>\n",
       "      <td>84</td>\n",
       "    </tr>\n",
       "    <tr>\n",
       "      <th>Brooklyn</th>\n",
       "      <td>68</td>\n",
       "    </tr>\n",
       "    <tr>\n",
       "      <th>Bronx</th>\n",
       "      <td>26</td>\n",
       "    </tr>\n",
       "    <tr>\n",
       "      <th>Queens</th>\n",
       "      <td>22</td>\n",
       "    </tr>\n",
       "  </tbody>\n",
       "</table>\n",
       "</div>"
      ],
      "text/plain": [
       "             Number of Listings\n",
       " Manhattan                   84\n",
       " Brooklyn                    68\n",
       " Bronx                       26\n",
       " Queens                      22"
      ]
     },
     "execution_count": 8,
     "metadata": {},
     "output_type": "execute_result"
    }
   ],
   "source": [
    "num_by_borough = pd.DataFrame(streeteasy_cleaned[\"Borough\"].value_counts())\n",
    "num_by_borough.rename(columns={\"Borough\": \"Number of Listings\"})"
   ]
  },
  {
   "cell_type": "code",
   "execution_count": 9,
   "metadata": {},
   "outputs": [
    {
     "data": {
      "image/png": "[encoded data removed]",
      "text/plain": [
       "<Figure size 432x288 with 1 Axes>"
      ]
     },
     "metadata": {
      "needs_background": "light"
     },
     "output_type": "display_data"
    }
   ],
   "source": [
    "# bar chart: total number of Streeteasy in each borough\n",
    "num_by_borough.plot.bar(color = \"rgycm\", alpha = 0.6)\n",
    "plt.xticks(rotation = 0)\n",
    "plt.legend().remove()\n",
    "plt.title(\"Total Number of Listings in each Borough\")\n",
    "plt.show()"
   ]
  },
  {
   "cell_type": "code",
   "execution_count": 10,
   "metadata": {},
   "outputs": [
    {
     "name": "stdout",
     "output_type": "stream",
     "text": [
      "The average price of Streeteasy in NYC is: $3487.41.\n"
     ]
    }
   ],
   "source": [
    "#Average Price NYC\n",
    "avg_price = round(streeteasy_cleaned[\"Price\"].mean(), 2)\n",
    "#sd_price = round(np.std(organized_df[\"price\"]), 2)\n",
    "print(f\"The average price of Streeteasy in NYC is: ${avg_price}.\")"
   ]
  },
  {
   "cell_type": "code",
   "execution_count": 11,
   "metadata": {},
   "outputs": [
    {
     "data": {
      "text/html": [
       "<div>\n",
       "<style scoped>\n",
       "    .dataframe tbody tr th:only-of-type {\n",
       "        vertical-align: middle;\n",
       "    }\n",
       "\n",
       "    .dataframe tbody tr th {\n",
       "        vertical-align: top;\n",
       "    }\n",
       "\n",
       "    .dataframe thead th {\n",
       "        text-align: right;\n",
       "    }\n",
       "</style>\n",
       "<table border=\"1\" class=\"dataframe\">\n",
       "  <thead>\n",
       "    <tr style=\"text-align: right;\">\n",
       "      <th></th>\n",
       "      <th>Price</th>\n",
       "    </tr>\n",
       "    <tr>\n",
       "      <th>Borough</th>\n",
       "      <th></th>\n",
       "    </tr>\n",
       "  </thead>\n",
       "  <tbody>\n",
       "    <tr>\n",
       "      <th>Manhattan</th>\n",
       "      <td>NaN</td>\n",
       "    </tr>\n",
       "    <tr>\n",
       "      <th>Brooklyn</th>\n",
       "      <td>NaN</td>\n",
       "    </tr>\n",
       "    <tr>\n",
       "      <th>Queens</th>\n",
       "      <td>NaN</td>\n",
       "    </tr>\n",
       "    <tr>\n",
       "      <th>Bronx</th>\n",
       "      <td>NaN</td>\n",
       "    </tr>\n",
       "  </tbody>\n",
       "</table>\n",
       "</div>"
      ],
      "text/plain": [
       "           Price\n",
       "Borough         \n",
       "Manhattan    NaN\n",
       "Brooklyn     NaN\n",
       "Queens       NaN\n",
       "Bronx        NaN"
      ]
     },
     "execution_count": 11,
     "metadata": {},
     "output_type": "execute_result"
    }
   ],
   "source": [
    "# Average Price in each borough\n",
    "average_price = streeteasy_df.groupby(\"Borough\")[\"Price\"].mean()\n",
    "average_price = pd.DataFrame(average_price)\n",
    "average_price = average_price.reindex([\"Manhattan\", \"Brooklyn\", \"Queens\", \"Bronx\"])\n",
    "average_price"
   ]
  },
  {
   "cell_type": "code",
   "execution_count": 12,
   "metadata": {},
   "outputs": [
    {
     "data": {
      "image/png": "[encoded data removed]",
      "text/plain": [
       "<Figure size 432x288 with 1 Axes>"
      ]
     },
     "metadata": {
      "needs_background": "light"
     },
     "output_type": "display_data"
    }
   ],
   "source": [
    "room_type_price = pd.DataFrame(streeteasy_cleaned.groupby(\"first_detail_cell\")[\"Price\"].mean())\n",
    "\n",
    "room_type_price.plot.bar(color = \"rgb\", alpha = 0.6)\n",
    "plt.xticks(rotation = \"0\")\n",
    "plt.ylabel(\"Avg Price ($)\")\n",
    "plt.legend().remove()\n",
    "plt.title(\"Average Price vs Room Type\")\n",
    "plt.show()"
   ]
  },
  {
   "cell_type": "code",
   "execution_count": 13,
   "metadata": {},
   "outputs": [
    {
     "data": {
      "image/png": "[encoded data removed]",
      "text/plain": [
       "<Figure size 432x288 with 1 Axes>"
      ]
     },
     "metadata": {
      "needs_background": "light"
     },
     "output_type": "display_data"
    }
   ],
   "source": [
    "bathroom_price = pd.DataFrame(streeteasy_cleaned.groupby(\"last_detail_cell\")[\"Price\"].mean())\n",
    "\n",
    "bathroom_price.plot.bar(color = \"rgb\", alpha = 0.6)\n",
    "plt.xticks(rotation = \"0\")\n",
    "plt.ylabel(\"Avg Price ($)\")\n",
    "plt.legend().remove()\n",
    "plt.title(\"Average Price vs Bathrooms\")\n",
    "plt.show()"
   ]
  }
 ],
 "metadata": {
  "kernelspec": {
   "display_name": "Python 3",
   "language": "python",
   "name": "python3"
  },
  "language_info": {
   "codemirror_mode": {
    "name": "ipython",
    "version": 3
   },
   "file_extension": ".py",
   "mimetype": "text/x-python",
   "name": "python",
   "nbconvert_exporter": "python",
   "pygments_lexer": "ipython3",
   "version": "3.7.3"
  }
 },
 "nbformat": 4,
 "nbformat_minor": 2
}
