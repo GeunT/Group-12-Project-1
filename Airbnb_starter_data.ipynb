{
 "cells": [
  {
   "cell_type": "code",
   "execution_count": 1,
   "metadata": {},
   "outputs": [],
   "source": [
    "%matplotlib inline\n",
    "\n",
    "import matplotlib.pyplot as plt\n",
    "import pandas as pd\n",
    "import numpy as np\n",
    "import seaborn as sns\n",
    "\n",
    "listing_data = \"Data/listings.csv\"\n",
    "reviews_data = \"Data/reviews.csv\"\n",
    "calendar_data = \"Data/calendar.csv\"\n",
    "\n",
    "listings_df = pd.read_csv(listing_data)\n",
    "reviews_df = pd.read_csv(reviews_data)\n",
    "calendar_df = pd.read_csv(calendar_data)"
   ]
  },
  {
   "cell_type": "code",
   "execution_count": 2,
   "metadata": {},
   "outputs": [
    {
     "data": {
      "text/html": [
       "<div>\n",
       "<style scoped>\n",
       "    .dataframe tbody tr th:only-of-type {\n",
       "        vertical-align: middle;\n",
       "    }\n",
       "\n",
       "    .dataframe tbody tr th {\n",
       "        vertical-align: top;\n",
       "    }\n",
       "\n",
       "    .dataframe thead th {\n",
       "        text-align: right;\n",
       "    }\n",
       "</style>\n",
       "<table border=\"1\" class=\"dataframe\">\n",
       "  <thead>\n",
       "    <tr style=\"text-align: right;\">\n",
       "      <th></th>\n",
       "      <th>id</th>\n",
       "      <th>name</th>\n",
       "      <th>host_id</th>\n",
       "      <th>host_name</th>\n",
       "      <th>neighbourhood_group</th>\n",
       "      <th>neighbourhood</th>\n",
       "      <th>latitude</th>\n",
       "      <th>longitude</th>\n",
       "      <th>room_type</th>\n",
       "      <th>price</th>\n",
       "      <th>minimum_nights</th>\n",
       "      <th>number_of_reviews</th>\n",
       "      <th>last_review</th>\n",
       "      <th>reviews_per_month</th>\n",
       "      <th>calculated_host_listings_count</th>\n",
       "      <th>availability_365</th>\n",
       "    </tr>\n",
       "  </thead>\n",
       "  <tbody>\n",
       "    <tr>\n",
       "      <th>0</th>\n",
       "      <td>1742654</td>\n",
       "      <td>High Floor apt.near Columbus Circle</td>\n",
       "      <td>9173924</td>\n",
       "      <td>Jon</td>\n",
       "      <td>Manhattan</td>\n",
       "      <td>Hell's Kitchen</td>\n",
       "      <td>40.76708</td>\n",
       "      <td>-73.98600</td>\n",
       "      <td>Entire home/apt</td>\n",
       "      <td>200</td>\n",
       "      <td>2</td>\n",
       "      <td>114</td>\n",
       "      <td>2019-04-15</td>\n",
       "      <td>1.87</td>\n",
       "      <td>1</td>\n",
       "      <td>204</td>\n",
       "    </tr>\n",
       "    <tr>\n",
       "      <th>1</th>\n",
       "      <td>23502842</td>\n",
       "      <td>Cozy East Village studio</td>\n",
       "      <td>34777741</td>\n",
       "      <td>Tiffany</td>\n",
       "      <td>Manhattan</td>\n",
       "      <td>East Village</td>\n",
       "      <td>40.72205</td>\n",
       "      <td>-73.98132</td>\n",
       "      <td>Entire home/apt</td>\n",
       "      <td>159</td>\n",
       "      <td>2</td>\n",
       "      <td>8</td>\n",
       "      <td>2018-09-08</td>\n",
       "      <td>0.66</td>\n",
       "      <td>1</td>\n",
       "      <td>10</td>\n",
       "    </tr>\n",
       "    <tr>\n",
       "      <th>2</th>\n",
       "      <td>15984984</td>\n",
       "      <td>Great Location by Subway!</td>\n",
       "      <td>9737900</td>\n",
       "      <td>Nilu</td>\n",
       "      <td>Brooklyn</td>\n",
       "      <td>Clinton Hill</td>\n",
       "      <td>40.68252</td>\n",
       "      <td>-73.96436</td>\n",
       "      <td>Entire home/apt</td>\n",
       "      <td>180</td>\n",
       "      <td>4</td>\n",
       "      <td>36</td>\n",
       "      <td>2019-04-30</td>\n",
       "      <td>1.24</td>\n",
       "      <td>1</td>\n",
       "      <td>10</td>\n",
       "    </tr>\n",
       "  </tbody>\n",
       "</table>\n",
       "</div>"
      ],
      "text/plain": [
       "         id                                 name   host_id host_name  \\\n",
       "0   1742654  High Floor apt.near Columbus Circle   9173924       Jon   \n",
       "1  23502842             Cozy East Village studio  34777741   Tiffany   \n",
       "2  15984984            Great Location by Subway!   9737900      Nilu   \n",
       "\n",
       "  neighbourhood_group   neighbourhood  latitude  longitude        room_type  \\\n",
       "0           Manhattan  Hell's Kitchen  40.76708  -73.98600  Entire home/apt   \n",
       "1           Manhattan    East Village  40.72205  -73.98132  Entire home/apt   \n",
       "2            Brooklyn    Clinton Hill  40.68252  -73.96436  Entire home/apt   \n",
       "\n",
       "   price  minimum_nights  number_of_reviews last_review  reviews_per_month  \\\n",
       "0    200               2                114  2019-04-15               1.87   \n",
       "1    159               2                  8  2018-09-08               0.66   \n",
       "2    180               4                 36  2019-04-30               1.24   \n",
       "\n",
       "   calculated_host_listings_count  availability_365  \n",
       "0                               1               204  \n",
       "1                               1                10  \n",
       "2                               1                10  "
      ]
     },
     "execution_count": 2,
     "metadata": {},
     "output_type": "execute_result"
    }
   ],
   "source": [
    "listings_df.head(3)"
   ]
  },
  {
   "cell_type": "code",
   "execution_count": 3,
   "metadata": {},
   "outputs": [
    {
     "data": {
      "text/plain": [
       "Index(['id', 'name', 'host_id', 'host_name', 'borough', 'neighbourhood',\n",
       "       'latitude', 'longitude', 'room_type', 'price', 'minimum_nights',\n",
       "       'number_of_reviews', 'last_review', 'reviews_per_month',\n",
       "       'calculated_host_listings_count', 'availability_365'],\n",
       "      dtype='object')"
      ]
     },
     "execution_count": 3,
     "metadata": {},
     "output_type": "execute_result"
    }
   ],
   "source": [
    "listings_df.rename(columns = {'neighbourhood_group': 'borough'}, inplace = True)\n",
    "listings_df.columns"
   ]
  },
  {
   "cell_type": "code",
   "execution_count": 4,
   "metadata": {},
   "outputs": [
    {
     "data": {
      "text/html": [
       "<div>\n",
       "<style scoped>\n",
       "    .dataframe tbody tr th:only-of-type {\n",
       "        vertical-align: middle;\n",
       "    }\n",
       "\n",
       "    .dataframe tbody tr th {\n",
       "        vertical-align: top;\n",
       "    }\n",
       "\n",
       "    .dataframe thead th {\n",
       "        text-align: right;\n",
       "    }\n",
       "</style>\n",
       "<table border=\"1\" class=\"dataframe\">\n",
       "  <thead>\n",
       "    <tr style=\"text-align: right;\">\n",
       "      <th></th>\n",
       "      <th>listing_id</th>\n",
       "      <th>id</th>\n",
       "      <th>date</th>\n",
       "      <th>reviewer_id</th>\n",
       "      <th>reviewer_name</th>\n",
       "      <th>comments</th>\n",
       "    </tr>\n",
       "  </thead>\n",
       "  <tbody>\n",
       "    <tr>\n",
       "      <th>0</th>\n",
       "      <td>2539</td>\n",
       "      <td>55688172</td>\n",
       "      <td>2015-12-04</td>\n",
       "      <td>25160947</td>\n",
       "      <td>Peter</td>\n",
       "      <td>Great host</td>\n",
       "    </tr>\n",
       "    <tr>\n",
       "      <th>1</th>\n",
       "      <td>5178</td>\n",
       "      <td>2091</td>\n",
       "      <td>2009-05-06</td>\n",
       "      <td>8443</td>\n",
       "      <td>Dimitri</td>\n",
       "      <td>MR. Kasai was a grreat host , very helpful and...</td>\n",
       "    </tr>\n",
       "    <tr>\n",
       "      <th>2</th>\n",
       "      <td>5178</td>\n",
       "      <td>3015</td>\n",
       "      <td>2009-05-23</td>\n",
       "      <td>15642</td>\n",
       "      <td>Duong</td>\n",
       "      <td>The room is great and the hosts are superb!!</td>\n",
       "    </tr>\n",
       "  </tbody>\n",
       "</table>\n",
       "</div>"
      ],
      "text/plain": [
       "   listing_id        id        date  reviewer_id reviewer_name  \\\n",
       "0        2539  55688172  2015-12-04     25160947         Peter   \n",
       "1        5178      2091  2009-05-06         8443       Dimitri   \n",
       "2        5178      3015  2009-05-23        15642         Duong   \n",
       "\n",
       "                                            comments  \n",
       "0                                        Great host   \n",
       "1  MR. Kasai was a grreat host , very helpful and...  \n",
       "2       The room is great and the hosts are superb!!  "
      ]
     },
     "execution_count": 4,
     "metadata": {},
     "output_type": "execute_result"
    }
   ],
   "source": [
    "reviews_df.head(3)"
   ]
  },
  {
   "cell_type": "code",
   "execution_count": null,
   "metadata": {},
   "outputs": [],
   "source": []
  },
  {
   "cell_type": "code",
   "execution_count": 5,
   "metadata": {},
   "outputs": [
    {
     "data": {
      "text/html": [
       "<div>\n",
       "<style scoped>\n",
       "    .dataframe tbody tr th:only-of-type {\n",
       "        vertical-align: middle;\n",
       "    }\n",
       "\n",
       "    .dataframe tbody tr th {\n",
       "        vertical-align: top;\n",
       "    }\n",
       "\n",
       "    .dataframe thead th {\n",
       "        text-align: right;\n",
       "    }\n",
       "</style>\n",
       "<table border=\"1\" class=\"dataframe\">\n",
       "  <thead>\n",
       "    <tr style=\"text-align: right;\">\n",
       "      <th></th>\n",
       "      <th>id</th>\n",
       "      <th>name</th>\n",
       "      <th>host_id</th>\n",
       "      <th>host_name</th>\n",
       "      <th>borough</th>\n",
       "      <th>neighbourhood</th>\n",
       "      <th>latitude</th>\n",
       "      <th>longitude</th>\n",
       "      <th>room_type</th>\n",
       "      <th>price</th>\n",
       "      <th>...</th>\n",
       "      <th>number_of_reviews</th>\n",
       "      <th>last_review</th>\n",
       "      <th>reviews_per_month</th>\n",
       "      <th>calculated_host_listings_count</th>\n",
       "      <th>availability_365</th>\n",
       "      <th>listing_id</th>\n",
       "      <th>date</th>\n",
       "      <th>reviewer_id</th>\n",
       "      <th>reviewer_name</th>\n",
       "      <th>comments</th>\n",
       "    </tr>\n",
       "  </thead>\n",
       "  <tbody>\n",
       "    <tr>\n",
       "      <th>0</th>\n",
       "      <td>1742654</td>\n",
       "      <td>High Floor apt.near Columbus Circle</td>\n",
       "      <td>9173924</td>\n",
       "      <td>Jon</td>\n",
       "      <td>Manhattan</td>\n",
       "      <td>Hell's Kitchen</td>\n",
       "      <td>40.76708</td>\n",
       "      <td>-73.98600</td>\n",
       "      <td>Entire home/apt</td>\n",
       "      <td>200</td>\n",
       "      <td>...</td>\n",
       "      <td>114</td>\n",
       "      <td>2019-04-15</td>\n",
       "      <td>1.87</td>\n",
       "      <td>1</td>\n",
       "      <td>204</td>\n",
       "      <td>NaN</td>\n",
       "      <td>NaN</td>\n",
       "      <td>NaN</td>\n",
       "      <td>NaN</td>\n",
       "      <td>NaN</td>\n",
       "    </tr>\n",
       "    <tr>\n",
       "      <th>1</th>\n",
       "      <td>23502842</td>\n",
       "      <td>Cozy East Village studio</td>\n",
       "      <td>34777741</td>\n",
       "      <td>Tiffany</td>\n",
       "      <td>Manhattan</td>\n",
       "      <td>East Village</td>\n",
       "      <td>40.72205</td>\n",
       "      <td>-73.98132</td>\n",
       "      <td>Entire home/apt</td>\n",
       "      <td>159</td>\n",
       "      <td>...</td>\n",
       "      <td>8</td>\n",
       "      <td>2018-09-08</td>\n",
       "      <td>0.66</td>\n",
       "      <td>1</td>\n",
       "      <td>10</td>\n",
       "      <td>NaN</td>\n",
       "      <td>NaN</td>\n",
       "      <td>NaN</td>\n",
       "      <td>NaN</td>\n",
       "      <td>NaN</td>\n",
       "    </tr>\n",
       "    <tr>\n",
       "      <th>2</th>\n",
       "      <td>15984984</td>\n",
       "      <td>Great Location by Subway!</td>\n",
       "      <td>9737900</td>\n",
       "      <td>Nilu</td>\n",
       "      <td>Brooklyn</td>\n",
       "      <td>Clinton Hill</td>\n",
       "      <td>40.68252</td>\n",
       "      <td>-73.96436</td>\n",
       "      <td>Entire home/apt</td>\n",
       "      <td>180</td>\n",
       "      <td>...</td>\n",
       "      <td>36</td>\n",
       "      <td>2019-04-30</td>\n",
       "      <td>1.24</td>\n",
       "      <td>1</td>\n",
       "      <td>10</td>\n",
       "      <td>NaN</td>\n",
       "      <td>NaN</td>\n",
       "      <td>NaN</td>\n",
       "      <td>NaN</td>\n",
       "      <td>NaN</td>\n",
       "    </tr>\n",
       "  </tbody>\n",
       "</table>\n",
       "<p>3 rows × 21 columns</p>\n",
       "</div>"
      ],
      "text/plain": [
       "         id                                 name   host_id host_name  \\\n",
       "0   1742654  High Floor apt.near Columbus Circle   9173924       Jon   \n",
       "1  23502842             Cozy East Village studio  34777741   Tiffany   \n",
       "2  15984984            Great Location by Subway!   9737900      Nilu   \n",
       "\n",
       "     borough   neighbourhood  latitude  longitude        room_type  price  \\\n",
       "0  Manhattan  Hell's Kitchen  40.76708  -73.98600  Entire home/apt    200   \n",
       "1  Manhattan    East Village  40.72205  -73.98132  Entire home/apt    159   \n",
       "2   Brooklyn    Clinton Hill  40.68252  -73.96436  Entire home/apt    180   \n",
       "\n",
       "   ...  number_of_reviews  last_review reviews_per_month  \\\n",
       "0  ...                114   2019-04-15              1.87   \n",
       "1  ...                  8   2018-09-08              0.66   \n",
       "2  ...                 36   2019-04-30              1.24   \n",
       "\n",
       "   calculated_host_listings_count  availability_365  listing_id  date  \\\n",
       "0                               1               204         NaN   NaN   \n",
       "1                               1                10         NaN   NaN   \n",
       "2                               1                10         NaN   NaN   \n",
       "\n",
       "  reviewer_id  reviewer_name comments  \n",
       "0         NaN            NaN      NaN  \n",
       "1         NaN            NaN      NaN  \n",
       "2         NaN            NaN      NaN  \n",
       "\n",
       "[3 rows x 21 columns]"
      ]
     },
     "execution_count": 5,
     "metadata": {},
     "output_type": "execute_result"
    }
   ],
   "source": [
    "merged_df = pd.merge(listings_df, reviews_df, how=\"left\", on=[\"id\", \"id\"])\n",
    "merged_df.head(3)"
   ]
  },
  {
   "cell_type": "code",
   "execution_count": 6,
   "metadata": {},
   "outputs": [
    {
     "data": {
      "text/plain": [
       "Index(['id', 'name', 'host_id', 'host_name', 'borough', 'neighbourhood',\n",
       "       'latitude', 'longitude', 'room_type', 'price', 'minimum_nights',\n",
       "       'number_of_reviews', 'last_review', 'reviews_per_month',\n",
       "       'calculated_host_listings_count', 'availability_365', 'listing_id',\n",
       "       'date', 'reviewer_id', 'reviewer_name', 'comments'],\n",
       "      dtype='object')"
      ]
     },
     "execution_count": 6,
     "metadata": {},
     "output_type": "execute_result"
    }
   ],
   "source": [
    "merged_df.columns"
   ]
  },
  {
   "cell_type": "code",
   "execution_count": 7,
   "metadata": {},
   "outputs": [
    {
     "data": {
      "text/html": [
       "<div>\n",
       "<style scoped>\n",
       "    .dataframe tbody tr th:only-of-type {\n",
       "        vertical-align: middle;\n",
       "    }\n",
       "\n",
       "    .dataframe tbody tr th {\n",
       "        vertical-align: top;\n",
       "    }\n",
       "\n",
       "    .dataframe thead th {\n",
       "        text-align: right;\n",
       "    }\n",
       "</style>\n",
       "<table border=\"1\" class=\"dataframe\">\n",
       "  <thead>\n",
       "    <tr style=\"text-align: right;\">\n",
       "      <th></th>\n",
       "      <th>borough</th>\n",
       "      <th>room_type</th>\n",
       "      <th>price</th>\n",
       "      <th>number_of_reviews</th>\n",
       "      <th>reviews_per_month</th>\n",
       "      <th>availability_365</th>\n",
       "      <th>id</th>\n",
       "    </tr>\n",
       "  </thead>\n",
       "  <tbody>\n",
       "    <tr>\n",
       "      <th>0</th>\n",
       "      <td>Manhattan</td>\n",
       "      <td>Entire home/apt</td>\n",
       "      <td>200</td>\n",
       "      <td>114</td>\n",
       "      <td>1.87</td>\n",
       "      <td>204</td>\n",
       "      <td>1742654</td>\n",
       "    </tr>\n",
       "    <tr>\n",
       "      <th>1</th>\n",
       "      <td>Manhattan</td>\n",
       "      <td>Entire home/apt</td>\n",
       "      <td>159</td>\n",
       "      <td>8</td>\n",
       "      <td>0.66</td>\n",
       "      <td>10</td>\n",
       "      <td>23502842</td>\n",
       "    </tr>\n",
       "    <tr>\n",
       "      <th>2</th>\n",
       "      <td>Brooklyn</td>\n",
       "      <td>Entire home/apt</td>\n",
       "      <td>180</td>\n",
       "      <td>36</td>\n",
       "      <td>1.24</td>\n",
       "      <td>10</td>\n",
       "      <td>15984984</td>\n",
       "    </tr>\n",
       "    <tr>\n",
       "      <th>3</th>\n",
       "      <td>Brooklyn</td>\n",
       "      <td>Entire home/apt</td>\n",
       "      <td>99</td>\n",
       "      <td>9</td>\n",
       "      <td>0.27</td>\n",
       "      <td>51</td>\n",
       "      <td>13820083</td>\n",
       "    </tr>\n",
       "    <tr>\n",
       "      <th>4</th>\n",
       "      <td>Brooklyn</td>\n",
       "      <td>Entire home/apt</td>\n",
       "      <td>100</td>\n",
       "      <td>122</td>\n",
       "      <td>2.63</td>\n",
       "      <td>257</td>\n",
       "      <td>6170979</td>\n",
       "    </tr>\n",
       "  </tbody>\n",
       "</table>\n",
       "</div>"
      ],
      "text/plain": [
       "     borough        room_type  price  number_of_reviews  reviews_per_month  \\\n",
       "0  Manhattan  Entire home/apt    200                114               1.87   \n",
       "1  Manhattan  Entire home/apt    159                  8               0.66   \n",
       "2   Brooklyn  Entire home/apt    180                 36               1.24   \n",
       "3   Brooklyn  Entire home/apt     99                  9               0.27   \n",
       "4   Brooklyn  Entire home/apt    100                122               2.63   \n",
       "\n",
       "   availability_365        id  \n",
       "0               204   1742654  \n",
       "1                10  23502842  \n",
       "2                10  15984984  \n",
       "3                51  13820083  \n",
       "4               257   6170979  "
      ]
     },
     "execution_count": 7,
     "metadata": {},
     "output_type": "execute_result"
    }
   ],
   "source": [
    "organized_df = merged_df[[\"borough\",\"room_type\",\"price\",\"number_of_reviews\", \"reviews_per_month\", \"availability_365\", \"id\"]]\n",
    "organized_df.head()"
   ]
  },
  {
   "cell_type": "code",
   "execution_count": 8,
   "metadata": {},
   "outputs": [],
   "source": [
    "bins = [0, 50, 100, 200, 500, 1000, 5000, 10000]\n",
    "\n",
    "group_names = [\"0-50\", \"50-100\", \"100-200\", \"200-500\", \"500-1000\", \\\n",
    "               \"1000-5000\", \"5000-10000\"]"
   ]
  },
  {
   "cell_type": "code",
   "execution_count": 9,
   "metadata": {},
   "outputs": [],
   "source": [
    "#final_df = organized_df.merge(organized_df.merge(organized_df.merge(average_price, total_Airbnb, on=\"borough\"), \n",
    "#                             total_House, on=\"borough\"), borough_type, on=\"borough\")"
   ]
  },
  {
   "cell_type": "code",
   "execution_count": 10,
   "metadata": {},
   "outputs": [
    {
     "name": "stderr",
     "output_type": "stream",
     "text": [
      "/anaconda3/lib/python3.7/site-packages/ipykernel_launcher.py:1: SettingWithCopyWarning: \n",
      "A value is trying to be set on a copy of a slice from a DataFrame.\n",
      "Try using .loc[row_indexer,col_indexer] = value instead\n",
      "\n",
      "See the caveats in the documentation: http://pandas.pydata.org/pandas-docs/stable/indexing.html#indexing-view-versus-copy\n",
      "  \"\"\"Entry point for launching an IPython kernel.\n"
     ]
    },
    {
     "data": {
      "text/html": [
       "<div>\n",
       "<style scoped>\n",
       "    .dataframe tbody tr th:only-of-type {\n",
       "        vertical-align: middle;\n",
       "    }\n",
       "\n",
       "    .dataframe tbody tr th {\n",
       "        vertical-align: top;\n",
       "    }\n",
       "\n",
       "    .dataframe thead th {\n",
       "        text-align: right;\n",
       "    }\n",
       "</style>\n",
       "<table border=\"1\" class=\"dataframe\">\n",
       "  <thead>\n",
       "    <tr style=\"text-align: right;\">\n",
       "      <th></th>\n",
       "      <th>Price Summary</th>\n",
       "      <th>Percent(%)</th>\n",
       "    </tr>\n",
       "    <tr>\n",
       "      <th>Price Summary</th>\n",
       "      <th></th>\n",
       "      <th></th>\n",
       "    </tr>\n",
       "  </thead>\n",
       "  <tbody>\n",
       "    <tr>\n",
       "      <th>0-50</th>\n",
       "      <td>6639</td>\n",
       "      <td>13.57</td>\n",
       "    </tr>\n",
       "    <tr>\n",
       "      <th>50-100</th>\n",
       "      <td>17182</td>\n",
       "      <td>35.11</td>\n",
       "    </tr>\n",
       "    <tr>\n",
       "      <th>100-200</th>\n",
       "      <td>16583</td>\n",
       "      <td>33.88</td>\n",
       "    </tr>\n",
       "    <tr>\n",
       "      <th>200-500</th>\n",
       "      <td>7430</td>\n",
       "      <td>15.18</td>\n",
       "    </tr>\n",
       "    <tr>\n",
       "      <th>500-1000</th>\n",
       "      <td>857</td>\n",
       "      <td>1.75</td>\n",
       "    </tr>\n",
       "    <tr>\n",
       "      <th>1000-5000</th>\n",
       "      <td>219</td>\n",
       "      <td>0.45</td>\n",
       "    </tr>\n",
       "    <tr>\n",
       "      <th>5000-10000</th>\n",
       "      <td>19</td>\n",
       "      <td>0.04</td>\n",
       "    </tr>\n",
       "  </tbody>\n",
       "</table>\n",
       "</div>"
      ],
      "text/plain": [
       "               Price Summary  Percent(%)\n",
       "Price Summary                           \n",
       "0-50                    6639       13.57\n",
       "50-100                 17182       35.11\n",
       "100-200                16583       33.88\n",
       "200-500                 7430       15.18\n",
       "500-1000                 857        1.75\n",
       "1000-5000                219        0.45\n",
       "5000-10000                19        0.04"
      ]
     },
     "execution_count": 10,
     "metadata": {},
     "output_type": "execute_result"
    }
   ],
   "source": [
    "organized_df[\"Price Summary\"] = pd.cut(organized_df[\"price\"], bins, labels=group_names)\n",
    "\n",
    "total_airbnb = len(organized_df)\n",
    "price_sum = organized_df.groupby(\"Price Summary\")[\"id\"].count()\n",
    "percent = round(price_sum / total_airbnb*100, 2)\n",
    "pd.DataFrame({\"Price Summary\": price_sum, \"Percent(%)\": percent})"
   ]
  },
  {
   "cell_type": "code",
   "execution_count": 11,
   "metadata": {},
   "outputs": [
    {
     "name": "stderr",
     "output_type": "stream",
     "text": [
      "/anaconda3/lib/python3.7/site-packages/ipykernel_launcher.py:1: SettingWithCopyWarning: \n",
      "A value is trying to be set on a copy of a slice from a DataFrame.\n",
      "Try using .loc[row_indexer,col_indexer] = value instead\n",
      "\n",
      "See the caveats in the documentation: http://pandas.pydata.org/pandas-docs/stable/indexing.html#indexing-view-versus-copy\n",
      "  \"\"\"Entry point for launching an IPython kernel.\n"
     ]
    }
   ],
   "source": [
    "organized_df[\"Price Summary\"] = pd.cut(organized_df[\"price\"], bins, labels=group_names)"
   ]
  },
  {
   "cell_type": "code",
   "execution_count": 12,
   "metadata": {},
   "outputs": [
    {
     "data": {
      "image/png": "[encoded data removed]",
      "text/plain": [
       "<Figure size 432x288 with 1 Axes>"
      ]
     },
     "metadata": {},
     "output_type": "display_data"
    }
   ],
   "source": [
    "sizes=[6639, 17182, 16583, 7430, 857, 219, 19]\n",
    "labels=[\"0-50\", \"50-100\", \"100-200\", \"200-500\", \"500-1000\", \\\n",
    "               \"1000-5000\", \"5000-10000\"]\n",
    "explode = (0, 0, 0, 0, 0.5, 1, 1.5)\n",
    "colors = [\"red\", \"orange\", \"lightcoral\", \"lightskyblue\", \"green\", \"black\", \"yellow\"]\n",
    "plt.pie(sizes, explode=explode, labels=labels, colors=colors,\n",
    "        autopct=\"%1.1f%%\", shadow=True, startangle=140)\n",
    "plt.show()"
   ]
  },
  {
   "cell_type": "code",
   "execution_count": 13,
   "metadata": {},
   "outputs": [],
   "source": [
    "Manhattan = organized_df.loc[organized_df[\"Price Summary\"]==\"200-500\"]"
   ]
  },
  {
   "cell_type": "code",
   "execution_count": 14,
   "metadata": {},
   "outputs": [
    {
     "data": {
      "text/plain": [
       "<matplotlib.collections.PathCollection at 0x1a222c82b0>"
      ]
     },
     "execution_count": 14,
     "metadata": {},
     "output_type": "execute_result"
    },
    {
     "data": {
      "image/png": "[encoded data removed]",
      "text/plain": [
       "<Figure size 432x288 with 1 Axes>"
      ]
     },
     "metadata": {
      "needs_background": "light"
     },
     "output_type": "display_data"
    }
   ],
   "source": [
    "plt.scatter(Manhattan[\"price\"], Manhattan[\"number_of_reviews\"], alpha=0.4)"
   ]
  },
  {
   "cell_type": "code",
   "execution_count": 15,
   "metadata": {},
   "outputs": [
    {
     "data": {
      "text/plain": [
       "Manhattan        22091\n",
       "Brooklyn         19975\n",
       "Queens            5493\n",
       "Bronx             1033\n",
       "Staten Island      349\n",
       "Name: borough, dtype: int64"
      ]
     },
     "execution_count": 15,
     "metadata": {},
     "output_type": "execute_result"
    }
   ],
   "source": [
    "counts = organized_df[\"borough\"].value_counts()\n",
    "counts"
   ]
  },
  {
   "cell_type": "code",
   "execution_count": 16,
   "metadata": {},
   "outputs": [
    {
     "data": {
      "image/png": "[encoded data removed]",
      "text/plain": [
       "<Figure size 432x288 with 1 Axes>"
      ]
     },
     "metadata": {},
     "output_type": "display_data"
    }
   ],
   "source": [
    "labels = [\"Manhattan\", \"Brooklyn\", \"Queens\", \"Bronx\", \"Staten Island\"]\n",
    "\n",
    "sizes = [22091, 19975, 5493, 1033, 349]\n",
    "\n",
    "explode = (0.1, 0.1, 0.1, 0.2, 0.3)\n",
    "\n",
    "fig1, ax1 = plt.subplots()\n",
    "ax1.pie(sizes, explode=explode, labels=labels, autopct='%1.1f%%',\n",
    "        shadow=True, startangle=250, colors = [\"lightgreen\", \"lightskyblue\", \"gold\", \"lightcoral\", \"blue\"])\n",
    "ax1.axis('equal') \n",
    "plt.title(\"% of Total AirBnb's in each Borough\")\n",
    "plt.show()"
   ]
  },
  {
   "cell_type": "markdown",
   "metadata": {},
   "source": [
    "# IDK\n",
    "\n",
    "Manhattan = merged_df.loc[merged_df[\"borough\"] == \"Manhattan\"].sum()\n",
    "Brooklyn = merged_df.loc[merged_df[\"borough\"] == \"Brooklyn\"].sum()\n",
    "Queens  = merged_df.loc[merged_df[\"borough\"] == \"Queens \"].sum()                  \n",
    "Bronx = merged_df.loc[merged_df[\"borough\"] == \"Bronx\"].sum()  \n",
    "Staten_Island = merged_df.loc[merged_df[\"borough\"] == \"Staten Island\"].sum()\n",
    "                  \n",
    "labels = ['Manhattan', 'Brooklyn', 'Queens', 'Bronx', 'Staten Island']\n",
    "sizes = [Manhattan, Brooklyn, Queens, Bronx, Staten_Island]\n",
    "explode = (0.1, 0.1, 0, 0, 0)  \n",
    "\n",
    "fig1, ax1 = plt.subplots()\n",
    "ax1.pie(sizes, explode=explode, labels=labels, autopct='%1.1f%%',\n",
    "        shadow=True, startangle=250, colors = [\"lightgreen\", \"lightskyblue\", \"gold\", \"lightcoral\", \"blue\"])\n",
    "ax1.axis('equal') \n",
    "plt.show()"
   ]
  },
  {
   "cell_type": "code",
   "execution_count": 17,
   "metadata": {},
   "outputs": [
    {
     "data": {
      "image/png": "[encoded data removed]",
      "text/plain": [
       "<Figure size 432x288 with 1 Axes>"
      ]
     },
     "metadata": {
      "needs_background": "light"
     },
     "output_type": "display_data"
    }
   ],
   "source": [
    "Boroughs = [\"Manhattan\", \"Brooklyn\", \"Queens\", \"Bronx\", \"Staten Island\"]\n",
    "amt_airbnb = [22091, 19975, 5493, 1033, 349]\n",
    "x_axis = np.arange(len(amt_airbnb))\n",
    "\n",
    "colors = \"bgrcmykw\"\n",
    "    \n",
    "plt.bar(Boroughs, amt_airbnb, color=\"bgrcmykw\", align=\"center\")\n",
    "   \n",
    "plt.title(\"AirBnb's Per Borough\")\n",
    "plt.xlabel(\"Borough\")\n",
    "plt.ylabel(\"Number of AirBnb's\")\n",
    "plt.show()"
   ]
  },
  {
   "cell_type": "code",
   "execution_count": 18,
   "metadata": {},
   "outputs": [
    {
     "data": {
      "text/html": [
       "<div>\n",
       "<style scoped>\n",
       "    .dataframe tbody tr th:only-of-type {\n",
       "        vertical-align: middle;\n",
       "    }\n",
       "\n",
       "    .dataframe tbody tr th {\n",
       "        vertical-align: top;\n",
       "    }\n",
       "\n",
       "    .dataframe thead th {\n",
       "        text-align: right;\n",
       "    }\n",
       "</style>\n",
       "<table border=\"1\" class=\"dataframe\">\n",
       "  <thead>\n",
       "    <tr style=\"text-align: right;\">\n",
       "      <th></th>\n",
       "      <th>borough</th>\n",
       "      <th>room_type</th>\n",
       "      <th>price</th>\n",
       "      <th>number_of_reviews</th>\n",
       "      <th>reviews_per_month</th>\n",
       "      <th>availability_365</th>\n",
       "      <th>id</th>\n",
       "      <th>Price Summary</th>\n",
       "    </tr>\n",
       "  </thead>\n",
       "  <tbody>\n",
       "    <tr>\n",
       "      <th>0</th>\n",
       "      <td>Manhattan</td>\n",
       "      <td>Entire home/apt</td>\n",
       "      <td>200</td>\n",
       "      <td>114</td>\n",
       "      <td>1.87</td>\n",
       "      <td>204</td>\n",
       "      <td>1742654</td>\n",
       "      <td>100-200</td>\n",
       "    </tr>\n",
       "    <tr>\n",
       "      <th>1</th>\n",
       "      <td>Manhattan</td>\n",
       "      <td>Entire home/apt</td>\n",
       "      <td>159</td>\n",
       "      <td>8</td>\n",
       "      <td>0.66</td>\n",
       "      <td>10</td>\n",
       "      <td>23502842</td>\n",
       "      <td>100-200</td>\n",
       "    </tr>\n",
       "    <tr>\n",
       "      <th>2</th>\n",
       "      <td>Brooklyn</td>\n",
       "      <td>Entire home/apt</td>\n",
       "      <td>180</td>\n",
       "      <td>36</td>\n",
       "      <td>1.24</td>\n",
       "      <td>10</td>\n",
       "      <td>15984984</td>\n",
       "      <td>100-200</td>\n",
       "    </tr>\n",
       "    <tr>\n",
       "      <th>3</th>\n",
       "      <td>Brooklyn</td>\n",
       "      <td>Entire home/apt</td>\n",
       "      <td>99</td>\n",
       "      <td>9</td>\n",
       "      <td>0.27</td>\n",
       "      <td>51</td>\n",
       "      <td>13820083</td>\n",
       "      <td>50-100</td>\n",
       "    </tr>\n",
       "    <tr>\n",
       "      <th>4</th>\n",
       "      <td>Brooklyn</td>\n",
       "      <td>Entire home/apt</td>\n",
       "      <td>100</td>\n",
       "      <td>122</td>\n",
       "      <td>2.63</td>\n",
       "      <td>257</td>\n",
       "      <td>6170979</td>\n",
       "      <td>50-100</td>\n",
       "    </tr>\n",
       "    <tr>\n",
       "      <th>5</th>\n",
       "      <td>Manhattan</td>\n",
       "      <td>Private room</td>\n",
       "      <td>75</td>\n",
       "      <td>3</td>\n",
       "      <td>0.32</td>\n",
       "      <td>19</td>\n",
       "      <td>27283214</td>\n",
       "      <td>50-100</td>\n",
       "    </tr>\n",
       "    <tr>\n",
       "      <th>6</th>\n",
       "      <td>Manhattan</td>\n",
       "      <td>Entire home/apt</td>\n",
       "      <td>200</td>\n",
       "      <td>9</td>\n",
       "      <td>2.13</td>\n",
       "      <td>358</td>\n",
       "      <td>30712669</td>\n",
       "      <td>100-200</td>\n",
       "    </tr>\n",
       "    <tr>\n",
       "      <th>7</th>\n",
       "      <td>Manhattan</td>\n",
       "      <td>Entire home/apt</td>\n",
       "      <td>195</td>\n",
       "      <td>28</td>\n",
       "      <td>0.27</td>\n",
       "      <td>208</td>\n",
       "      <td>33014</td>\n",
       "      <td>100-200</td>\n",
       "    </tr>\n",
       "    <tr>\n",
       "      <th>8</th>\n",
       "      <td>Brooklyn</td>\n",
       "      <td>Entire home/apt</td>\n",
       "      <td>79</td>\n",
       "      <td>1</td>\n",
       "      <td>0.17</td>\n",
       "      <td>93</td>\n",
       "      <td>29705049</td>\n",
       "      <td>50-100</td>\n",
       "    </tr>\n",
       "    <tr>\n",
       "      <th>9</th>\n",
       "      <td>Brooklyn</td>\n",
       "      <td>Entire home/apt</td>\n",
       "      <td>200</td>\n",
       "      <td>1</td>\n",
       "      <td>0.02</td>\n",
       "      <td>247</td>\n",
       "      <td>867749</td>\n",
       "      <td>100-200</td>\n",
       "    </tr>\n",
       "  </tbody>\n",
       "</table>\n",
       "</div>"
      ],
      "text/plain": [
       "     borough        room_type  price  number_of_reviews  reviews_per_month  \\\n",
       "0  Manhattan  Entire home/apt    200                114               1.87   \n",
       "1  Manhattan  Entire home/apt    159                  8               0.66   \n",
       "2   Brooklyn  Entire home/apt    180                 36               1.24   \n",
       "3   Brooklyn  Entire home/apt     99                  9               0.27   \n",
       "4   Brooklyn  Entire home/apt    100                122               2.63   \n",
       "5  Manhattan     Private room     75                  3               0.32   \n",
       "6  Manhattan  Entire home/apt    200                  9               2.13   \n",
       "7  Manhattan  Entire home/apt    195                 28               0.27   \n",
       "8   Brooklyn  Entire home/apt     79                  1               0.17   \n",
       "9   Brooklyn  Entire home/apt    200                  1               0.02   \n",
       "\n",
       "   availability_365        id Price Summary  \n",
       "0               204   1742654       100-200  \n",
       "1                10  23502842       100-200  \n",
       "2                10  15984984       100-200  \n",
       "3                51  13820083        50-100  \n",
       "4               257   6170979        50-100  \n",
       "5                19  27283214        50-100  \n",
       "6               358  30712669       100-200  \n",
       "7               208     33014       100-200  \n",
       "8                93  29705049        50-100  \n",
       "9               247    867749       100-200  "
      ]
     },
     "execution_count": 18,
     "metadata": {},
     "output_type": "execute_result"
    }
   ],
   "source": [
    "organized_df.head(10)"
   ]
  },
  {
   "cell_type": "code",
   "execution_count": 19,
   "metadata": {},
   "outputs": [
    {
     "data": {
      "text/plain": [
       "Manhattan        22091\n",
       "Brooklyn         19975\n",
       "Queens            5493\n",
       "Bronx             1033\n",
       "Staten Island      349\n",
       "Name: borough, dtype: int64"
      ]
     },
     "execution_count": 19,
     "metadata": {},
     "output_type": "execute_result"
    }
   ],
   "source": [
    "counts"
   ]
  },
  {
   "cell_type": "code",
   "execution_count": 20,
   "metadata": {},
   "outputs": [
    {
     "data": {
      "text/plain": [
       "153.57712347520484"
      ]
     },
     "execution_count": 20,
     "metadata": {},
     "output_type": "execute_result"
    }
   ],
   "source": [
    "#Average Price per borough\n",
    "city_avg = organized_df[\"price\"].mean()\n",
    "city_avg"
   ]
  },
  {
   "cell_type": "code",
   "execution_count": 21,
   "metadata": {},
   "outputs": [
    {
     "data": {
      "text/html": [
       "<div>\n",
       "<style scoped>\n",
       "    .dataframe tbody tr th:only-of-type {\n",
       "        vertical-align: middle;\n",
       "    }\n",
       "\n",
       "    .dataframe tbody tr th {\n",
       "        vertical-align: top;\n",
       "    }\n",
       "\n",
       "    .dataframe thead th {\n",
       "        text-align: right;\n",
       "    }\n",
       "</style>\n",
       "<table border=\"1\" class=\"dataframe\">\n",
       "  <thead>\n",
       "    <tr style=\"text-align: right;\">\n",
       "      <th></th>\n",
       "      <th>borough</th>\n",
       "      <th>avg price</th>\n",
       "    </tr>\n",
       "  </thead>\n",
       "  <tbody>\n",
       "    <tr>\n",
       "      <th>0</th>\n",
       "      <td>Bronx</td>\n",
       "      <td>84.535334</td>\n",
       "    </tr>\n",
       "    <tr>\n",
       "      <th>1</th>\n",
       "      <td>Brooklyn</td>\n",
       "      <td>122.569712</td>\n",
       "    </tr>\n",
       "    <tr>\n",
       "      <th>2</th>\n",
       "      <td>Manhattan</td>\n",
       "      <td>199.463039</td>\n",
       "    </tr>\n",
       "    <tr>\n",
       "      <th>3</th>\n",
       "      <td>Queens</td>\n",
       "      <td>97.469507</td>\n",
       "    </tr>\n",
       "    <tr>\n",
       "      <th>4</th>\n",
       "      <td>Staten Island</td>\n",
       "      <td>111.246418</td>\n",
       "    </tr>\n",
       "  </tbody>\n",
       "</table>\n",
       "</div>"
      ],
      "text/plain": [
       "         borough   avg price\n",
       "0          Bronx   84.535334\n",
       "1       Brooklyn  122.569712\n",
       "2      Manhattan  199.463039\n",
       "3         Queens   97.469507\n",
       "4  Staten Island  111.246418"
      ]
     },
     "execution_count": 21,
     "metadata": {},
     "output_type": "execute_result"
    }
   ],
   "source": [
    "average_price = organized_df.groupby(\"borough\")[\"price\"].mean()\n",
    "average_price = pd.DataFrame(average_price).reset_index()\n",
    "average_price = average_price.rename(columns = {'price': 'avg price'})\n",
    "average_price"
   ]
  },
  {
   "cell_type": "code",
   "execution_count": 22,
   "metadata": {},
   "outputs": [
    {
     "data": {
      "text/html": [
       "<div>\n",
       "<style scoped>\n",
       "    .dataframe tbody tr th:only-of-type {\n",
       "        vertical-align: middle;\n",
       "    }\n",
       "\n",
       "    .dataframe tbody tr th {\n",
       "        vertical-align: top;\n",
       "    }\n",
       "\n",
       "    .dataframe thead th {\n",
       "        text-align: right;\n",
       "    }\n",
       "</style>\n",
       "<table border=\"1\" class=\"dataframe\">\n",
       "  <thead>\n",
       "    <tr style=\"text-align: right;\">\n",
       "      <th></th>\n",
       "      <th>borough</th>\n",
       "      <th>total_airbnb</th>\n",
       "    </tr>\n",
       "  </thead>\n",
       "  <tbody>\n",
       "    <tr>\n",
       "      <th>0</th>\n",
       "      <td>Bronx</td>\n",
       "      <td>1033</td>\n",
       "    </tr>\n",
       "    <tr>\n",
       "      <th>1</th>\n",
       "      <td>Brooklyn</td>\n",
       "      <td>19975</td>\n",
       "    </tr>\n",
       "    <tr>\n",
       "      <th>2</th>\n",
       "      <td>Manhattan</td>\n",
       "      <td>22091</td>\n",
       "    </tr>\n",
       "    <tr>\n",
       "      <th>3</th>\n",
       "      <td>Queens</td>\n",
       "      <td>5493</td>\n",
       "    </tr>\n",
       "    <tr>\n",
       "      <th>4</th>\n",
       "      <td>Staten Island</td>\n",
       "      <td>349</td>\n",
       "    </tr>\n",
       "  </tbody>\n",
       "</table>\n",
       "</div>"
      ],
      "text/plain": [
       "         borough  total_airbnb\n",
       "0          Bronx          1033\n",
       "1       Brooklyn         19975\n",
       "2      Manhattan         22091\n",
       "3         Queens          5493\n",
       "4  Staten Island           349"
      ]
     },
     "execution_count": 22,
     "metadata": {},
     "output_type": "execute_result"
    }
   ],
   "source": [
    "#Total Number of AirBnb per borough\n",
    "total_Airbnb = organized_df.groupby(\"borough\")[\"id\"].count()\n",
    "total_Airbnb = pd.DataFrame(total_Airbnb).reset_index()\n",
    "total_Airbnb = total_Airbnb.rename(columns = {'id': 'total_airbnb'})\n",
    "total_Airbnb"
   ]
  },
  {
   "cell_type": "code",
   "execution_count": 23,
   "metadata": {},
   "outputs": [],
   "source": [
    "summary = pd.merge(average_price, total_Airbnb, on=\"borough\", how='left')"
   ]
  },
  {
   "cell_type": "code",
   "execution_count": null,
   "metadata": {},
   "outputs": [],
   "source": []
  },
  {
   "cell_type": "code",
   "execution_count": 24,
   "metadata": {},
   "outputs": [],
   "source": [
    "#Total Housing\n",
    "total_House = organized_df[[\"borough\", \"id\"]].drop_duplicates(\"borough\")\n",
    "#Borough Type\n",
    "borough_type = organized_df[[\"borough\", \"id\"]].drop_duplicates(\"borough\")"
   ]
  },
  {
   "cell_type": "code",
   "execution_count": 25,
   "metadata": {},
   "outputs": [],
   "source": [
    "Manhattan = organized_df.loc[organized_df['borough'] == \"Manhattan\"]\n",
    "Brooklyn = organized_df.loc[organized_df['borough'] == \"Brooklyn\"]\n",
    "Queens  = organized_df.loc[organized_df['borough'] == \"Queens \"]                  \n",
    "Bronx = organized_df.loc[organized_df['borough'] == \"Bronx\"] \n",
    "Staten_Island = organized_df.loc[organized_df['borough'] == \"Staten Island\"]"
   ]
  },
  {
   "cell_type": "code",
   "execution_count": 26,
   "metadata": {},
   "outputs": [
    {
     "data": {
      "text/html": [
       "<div>\n",
       "<style scoped>\n",
       "    .dataframe tbody tr th:only-of-type {\n",
       "        vertical-align: middle;\n",
       "    }\n",
       "\n",
       "    .dataframe tbody tr th {\n",
       "        vertical-align: top;\n",
       "    }\n",
       "\n",
       "    .dataframe thead th {\n",
       "        text-align: right;\n",
       "    }\n",
       "</style>\n",
       "<table border=\"1\" class=\"dataframe\">\n",
       "  <thead>\n",
       "    <tr style=\"text-align: right;\">\n",
       "      <th></th>\n",
       "      <th>borough</th>\n",
       "      <th>room_type</th>\n",
       "      <th>price</th>\n",
       "      <th>number_of_reviews</th>\n",
       "      <th>reviews_per_month</th>\n",
       "      <th>availability_365</th>\n",
       "      <th>id</th>\n",
       "      <th>Price Summary</th>\n",
       "    </tr>\n",
       "  </thead>\n",
       "  <tbody>\n",
       "    <tr>\n",
       "      <th>0</th>\n",
       "      <td>Manhattan</td>\n",
       "      <td>Entire home/apt</td>\n",
       "      <td>200</td>\n",
       "      <td>114</td>\n",
       "      <td>1.87</td>\n",
       "      <td>204</td>\n",
       "      <td>1742654</td>\n",
       "      <td>100-200</td>\n",
       "    </tr>\n",
       "    <tr>\n",
       "      <th>1</th>\n",
       "      <td>Manhattan</td>\n",
       "      <td>Entire home/apt</td>\n",
       "      <td>159</td>\n",
       "      <td>8</td>\n",
       "      <td>0.66</td>\n",
       "      <td>10</td>\n",
       "      <td>23502842</td>\n",
       "      <td>100-200</td>\n",
       "    </tr>\n",
       "    <tr>\n",
       "      <th>5</th>\n",
       "      <td>Manhattan</td>\n",
       "      <td>Private room</td>\n",
       "      <td>75</td>\n",
       "      <td>3</td>\n",
       "      <td>0.32</td>\n",
       "      <td>19</td>\n",
       "      <td>27283214</td>\n",
       "      <td>50-100</td>\n",
       "    </tr>\n",
       "    <tr>\n",
       "      <th>6</th>\n",
       "      <td>Manhattan</td>\n",
       "      <td>Entire home/apt</td>\n",
       "      <td>200</td>\n",
       "      <td>9</td>\n",
       "      <td>2.13</td>\n",
       "      <td>358</td>\n",
       "      <td>30712669</td>\n",
       "      <td>100-200</td>\n",
       "    </tr>\n",
       "    <tr>\n",
       "      <th>7</th>\n",
       "      <td>Manhattan</td>\n",
       "      <td>Entire home/apt</td>\n",
       "      <td>195</td>\n",
       "      <td>28</td>\n",
       "      <td>0.27</td>\n",
       "      <td>208</td>\n",
       "      <td>33014</td>\n",
       "      <td>100-200</td>\n",
       "    </tr>\n",
       "  </tbody>\n",
       "</table>\n",
       "</div>"
      ],
      "text/plain": [
       "     borough        room_type  price  number_of_reviews  reviews_per_month  \\\n",
       "0  Manhattan  Entire home/apt    200                114               1.87   \n",
       "1  Manhattan  Entire home/apt    159                  8               0.66   \n",
       "5  Manhattan     Private room     75                  3               0.32   \n",
       "6  Manhattan  Entire home/apt    200                  9               2.13   \n",
       "7  Manhattan  Entire home/apt    195                 28               0.27   \n",
       "\n",
       "   availability_365        id Price Summary  \n",
       "0               204   1742654       100-200  \n",
       "1                10  23502842       100-200  \n",
       "5                19  27283214        50-100  \n",
       "6               358  30712669       100-200  \n",
       "7               208     33014       100-200  "
      ]
     },
     "execution_count": 26,
     "metadata": {},
     "output_type": "execute_result"
    }
   ],
   "source": [
    "Manhattan.head()"
   ]
  },
  {
   "cell_type": "code",
   "execution_count": null,
   "metadata": {},
   "outputs": [],
   "source": []
  }
 ],
 "metadata": {
  "kernelspec": {
   "display_name": "Python 3",
   "language": "python",
   "name": "python3"
  },
  "language_info": {
   "codemirror_mode": {
    "name": "ipython",
    "version": 3
   },
   "file_extension": ".py",
   "mimetype": "text/x-python",
   "name": "python",
   "nbconvert_exporter": "python",
   "pygments_lexer": "ipython3",
   "version": "3.7.3"
  }
 },
 "nbformat": 4,
 "nbformat_minor": 2
}
